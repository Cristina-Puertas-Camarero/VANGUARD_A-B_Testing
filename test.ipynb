{
 "cells": [
  {
   "cell_type": "code",
   "execution_count": 1,
   "metadata": {},
   "outputs": [],
   "source": [
    "#importamos librerias\n",
    "import pandas as pd\n",
    "import numpy as np\n",
    "import matplotlib.pyplot as plt\n",
    "import seaborn as sns\n"
   ]
  },
  {
   "cell_type": "code",
   "execution_count": 2,
   "metadata": {},
   "outputs": [],
   "source": [
    "df_proceso = pd.read_csv('df_final_web_data.csv')"
   ]
  },
  {
   "cell_type": "code",
   "execution_count": 3,
   "metadata": {},
   "outputs": [
    {
     "data": {
      "text/html": [
       "<div>\n",
       "<style scoped>\n",
       "    .dataframe tbody tr th:only-of-type {\n",
       "        vertical-align: middle;\n",
       "    }\n",
       "\n",
       "    .dataframe tbody tr th {\n",
       "        vertical-align: top;\n",
       "    }\n",
       "\n",
       "    .dataframe thead th {\n",
       "        text-align: right;\n",
       "    }\n",
       "</style>\n",
       "<table border=\"1\" class=\"dataframe\">\n",
       "  <thead>\n",
       "    <tr style=\"text-align: right;\">\n",
       "      <th></th>\n",
       "      <th>client_id</th>\n",
       "      <th>visitor_id</th>\n",
       "      <th>visit_id</th>\n",
       "      <th>process_step</th>\n",
       "      <th>date_time</th>\n",
       "    </tr>\n",
       "  </thead>\n",
       "  <tbody>\n",
       "    <tr>\n",
       "      <th>0</th>\n",
       "      <td>9988021</td>\n",
       "      <td>580560515_7732621733</td>\n",
       "      <td>781255054_21935453173_531117</td>\n",
       "      <td>step_3</td>\n",
       "      <td>2017-04-17 15:27:07</td>\n",
       "    </tr>\n",
       "    <tr>\n",
       "      <th>1</th>\n",
       "      <td>9988021</td>\n",
       "      <td>580560515_7732621733</td>\n",
       "      <td>781255054_21935453173_531117</td>\n",
       "      <td>step_2</td>\n",
       "      <td>2017-04-17 15:26:51</td>\n",
       "    </tr>\n",
       "    <tr>\n",
       "      <th>2</th>\n",
       "      <td>9988021</td>\n",
       "      <td>580560515_7732621733</td>\n",
       "      <td>781255054_21935453173_531117</td>\n",
       "      <td>step_3</td>\n",
       "      <td>2017-04-17 15:19:22</td>\n",
       "    </tr>\n",
       "    <tr>\n",
       "      <th>3</th>\n",
       "      <td>9988021</td>\n",
       "      <td>580560515_7732621733</td>\n",
       "      <td>781255054_21935453173_531117</td>\n",
       "      <td>step_2</td>\n",
       "      <td>2017-04-17 15:19:13</td>\n",
       "    </tr>\n",
       "    <tr>\n",
       "      <th>4</th>\n",
       "      <td>9988021</td>\n",
       "      <td>580560515_7732621733</td>\n",
       "      <td>781255054_21935453173_531117</td>\n",
       "      <td>step_3</td>\n",
       "      <td>2017-04-17 15:18:04</td>\n",
       "    </tr>\n",
       "  </tbody>\n",
       "</table>\n",
       "</div>"
      ],
      "text/plain": [
       "   client_id            visitor_id                      visit_id process_step  \\\n",
       "0    9988021  580560515_7732621733  781255054_21935453173_531117       step_3   \n",
       "1    9988021  580560515_7732621733  781255054_21935453173_531117       step_2   \n",
       "2    9988021  580560515_7732621733  781255054_21935453173_531117       step_3   \n",
       "3    9988021  580560515_7732621733  781255054_21935453173_531117       step_2   \n",
       "4    9988021  580560515_7732621733  781255054_21935453173_531117       step_3   \n",
       "\n",
       "             date_time  \n",
       "0  2017-04-17 15:27:07  \n",
       "1  2017-04-17 15:26:51  \n",
       "2  2017-04-17 15:19:22  \n",
       "3  2017-04-17 15:19:13  \n",
       "4  2017-04-17 15:18:04  "
      ]
     },
     "execution_count": 3,
     "metadata": {},
     "output_type": "execute_result"
    }
   ],
   "source": [
    "df_proceso.head()"
   ]
  },
  {
   "cell_type": "code",
   "execution_count": 4,
   "metadata": {},
   "outputs": [
    {
     "name": "stderr",
     "output_type": "stream",
     "text": [
      "C:\\Users\\Propietario\\AppData\\Local\\Temp\\ipykernel_11076\\889013762.py:1: DtypeWarning: Columns (9) have mixed types. Specify dtype option on import or set low_memory=False.\n",
      "  df = pd.read_csv('df_final.csv')\n"
     ]
    }
   ],
   "source": [
    "df = pd.read_csv('df_final.csv')"
   ]
  },
  {
   "cell_type": "code",
   "execution_count": 5,
   "metadata": {},
   "outputs": [
    {
     "data": {
      "text/html": [
       "<div>\n",
       "<style scoped>\n",
       "    .dataframe tbody tr th:only-of-type {\n",
       "        vertical-align: middle;\n",
       "    }\n",
       "\n",
       "    .dataframe tbody tr th {\n",
       "        vertical-align: top;\n",
       "    }\n",
       "\n",
       "    .dataframe thead th {\n",
       "        text-align: right;\n",
       "    }\n",
       "</style>\n",
       "<table border=\"1\" class=\"dataframe\">\n",
       "  <thead>\n",
       "    <tr style=\"text-align: right;\">\n",
       "      <th></th>\n",
       "      <th>client_id</th>\n",
       "      <th>clnt_tenure_yr</th>\n",
       "      <th>clnt_tenure_mnth</th>\n",
       "      <th>clnt_age</th>\n",
       "      <th>gendr</th>\n",
       "      <th>num_accts</th>\n",
       "      <th>bal</th>\n",
       "      <th>calls_6_mnth</th>\n",
       "      <th>logons_6_mnth</th>\n",
       "      <th>Variation</th>\n",
       "      <th>clnt_age_group</th>\n",
       "    </tr>\n",
       "  </thead>\n",
       "  <tbody>\n",
       "    <tr>\n",
       "      <th>0</th>\n",
       "      <td>836976</td>\n",
       "      <td>6.0</td>\n",
       "      <td>73.0</td>\n",
       "      <td>60.5</td>\n",
       "      <td>U</td>\n",
       "      <td>2.0</td>\n",
       "      <td>45105.30</td>\n",
       "      <td>6.0</td>\n",
       "      <td>9.0</td>\n",
       "      <td>Test</td>\n",
       "      <td>Senior</td>\n",
       "    </tr>\n",
       "    <tr>\n",
       "      <th>1</th>\n",
       "      <td>2304905</td>\n",
       "      <td>7.0</td>\n",
       "      <td>94.0</td>\n",
       "      <td>58.0</td>\n",
       "      <td>U</td>\n",
       "      <td>2.0</td>\n",
       "      <td>110860.30</td>\n",
       "      <td>6.0</td>\n",
       "      <td>9.0</td>\n",
       "      <td>Control</td>\n",
       "      <td>Senior</td>\n",
       "    </tr>\n",
       "    <tr>\n",
       "      <th>2</th>\n",
       "      <td>1439522</td>\n",
       "      <td>5.0</td>\n",
       "      <td>64.0</td>\n",
       "      <td>32.0</td>\n",
       "      <td>U</td>\n",
       "      <td>2.0</td>\n",
       "      <td>52467.79</td>\n",
       "      <td>6.0</td>\n",
       "      <td>9.0</td>\n",
       "      <td>Test</td>\n",
       "      <td>Joven</td>\n",
       "    </tr>\n",
       "    <tr>\n",
       "      <th>3</th>\n",
       "      <td>1562045</td>\n",
       "      <td>16.0</td>\n",
       "      <td>198.0</td>\n",
       "      <td>49.0</td>\n",
       "      <td>M</td>\n",
       "      <td>2.0</td>\n",
       "      <td>67454.65</td>\n",
       "      <td>3.0</td>\n",
       "      <td>6.0</td>\n",
       "      <td>Test</td>\n",
       "      <td>Adulto</td>\n",
       "    </tr>\n",
       "    <tr>\n",
       "      <th>4</th>\n",
       "      <td>5126305</td>\n",
       "      <td>12.0</td>\n",
       "      <td>145.0</td>\n",
       "      <td>33.0</td>\n",
       "      <td>F</td>\n",
       "      <td>2.0</td>\n",
       "      <td>103671.75</td>\n",
       "      <td>0.0</td>\n",
       "      <td>3.0</td>\n",
       "      <td>Control</td>\n",
       "      <td>Joven</td>\n",
       "    </tr>\n",
       "  </tbody>\n",
       "</table>\n",
       "</div>"
      ],
      "text/plain": [
       "   client_id  clnt_tenure_yr  clnt_tenure_mnth  clnt_age gendr  num_accts  \\\n",
       "0     836976             6.0              73.0      60.5     U        2.0   \n",
       "1    2304905             7.0              94.0      58.0     U        2.0   \n",
       "2    1439522             5.0              64.0      32.0     U        2.0   \n",
       "3    1562045            16.0             198.0      49.0     M        2.0   \n",
       "4    5126305            12.0             145.0      33.0     F        2.0   \n",
       "\n",
       "         bal  calls_6_mnth  logons_6_mnth Variation clnt_age_group  \n",
       "0   45105.30           6.0            9.0      Test         Senior  \n",
       "1  110860.30           6.0            9.0   Control         Senior  \n",
       "2   52467.79           6.0            9.0      Test          Joven  \n",
       "3   67454.65           3.0            6.0      Test         Adulto  \n",
       "4  103671.75           0.0            3.0   Control          Joven  "
      ]
     },
     "execution_count": 5,
     "metadata": {},
     "output_type": "execute_result"
    }
   ],
   "source": [
    "df.head()"
   ]
  },
  {
   "cell_type": "code",
   "execution_count": 6,
   "metadata": {},
   "outputs": [],
   "source": [
    "# Fusionaremos los df para tener un solo df con toda la información, haciendo un merge por la columna 'id'\n",
    "df_final = pd.merge(df, df_proceso, on='client_id')\n"
   ]
  },
  {
   "cell_type": "code",
   "execution_count": 7,
   "metadata": {},
   "outputs": [],
   "source": [
    "df_final['date_time'] = pd.to_datetime(df_final['date_time'])"
   ]
  },
  {
   "cell_type": "code",
   "execution_count": 8,
   "metadata": {},
   "outputs": [
    {
     "data": {
      "text/plain": [
       "dtype('<M8[ns]')"
      ]
     },
     "execution_count": 8,
     "metadata": {},
     "output_type": "execute_result"
    }
   ],
   "source": [
    "df_final['date_time'].dtypes"
   ]
  },
  {
   "cell_type": "code",
   "execution_count": 9,
   "metadata": {},
   "outputs": [
    {
     "data": {
      "text/html": [
       "<div>\n",
       "<style scoped>\n",
       "    .dataframe tbody tr th:only-of-type {\n",
       "        vertical-align: middle;\n",
       "    }\n",
       "\n",
       "    .dataframe tbody tr th {\n",
       "        vertical-align: top;\n",
       "    }\n",
       "\n",
       "    .dataframe thead th {\n",
       "        text-align: right;\n",
       "    }\n",
       "</style>\n",
       "<table border=\"1\" class=\"dataframe\">\n",
       "  <thead>\n",
       "    <tr style=\"text-align: right;\">\n",
       "      <th></th>\n",
       "      <th>client_id</th>\n",
       "      <th>clnt_tenure_yr</th>\n",
       "      <th>clnt_tenure_mnth</th>\n",
       "      <th>clnt_age</th>\n",
       "      <th>gendr</th>\n",
       "      <th>num_accts</th>\n",
       "      <th>bal</th>\n",
       "      <th>calls_6_mnth</th>\n",
       "      <th>logons_6_mnth</th>\n",
       "      <th>Variation</th>\n",
       "      <th>clnt_age_group</th>\n",
       "      <th>visitor_id</th>\n",
       "      <th>visit_id</th>\n",
       "      <th>process_step</th>\n",
       "      <th>date_time</th>\n",
       "    </tr>\n",
       "  </thead>\n",
       "  <tbody>\n",
       "    <tr>\n",
       "      <th>0</th>\n",
       "      <td>836976</td>\n",
       "      <td>6.0</td>\n",
       "      <td>73.0</td>\n",
       "      <td>60.5</td>\n",
       "      <td>U</td>\n",
       "      <td>2.0</td>\n",
       "      <td>45105.3</td>\n",
       "      <td>6.0</td>\n",
       "      <td>9.0</td>\n",
       "      <td>Test</td>\n",
       "      <td>Senior</td>\n",
       "      <td>427070339_1413275162</td>\n",
       "      <td>228976764_46825473280_96584</td>\n",
       "      <td>confirm</td>\n",
       "      <td>2017-04-02 11:51:13</td>\n",
       "    </tr>\n",
       "    <tr>\n",
       "      <th>1</th>\n",
       "      <td>836976</td>\n",
       "      <td>6.0</td>\n",
       "      <td>73.0</td>\n",
       "      <td>60.5</td>\n",
       "      <td>U</td>\n",
       "      <td>2.0</td>\n",
       "      <td>45105.3</td>\n",
       "      <td>6.0</td>\n",
       "      <td>9.0</td>\n",
       "      <td>Test</td>\n",
       "      <td>Senior</td>\n",
       "      <td>427070339_1413275162</td>\n",
       "      <td>228976764_46825473280_96584</td>\n",
       "      <td>confirm</td>\n",
       "      <td>2017-04-02 11:47:50</td>\n",
       "    </tr>\n",
       "    <tr>\n",
       "      <th>2</th>\n",
       "      <td>836976</td>\n",
       "      <td>6.0</td>\n",
       "      <td>73.0</td>\n",
       "      <td>60.5</td>\n",
       "      <td>U</td>\n",
       "      <td>2.0</td>\n",
       "      <td>45105.3</td>\n",
       "      <td>6.0</td>\n",
       "      <td>9.0</td>\n",
       "      <td>Test</td>\n",
       "      <td>Senior</td>\n",
       "      <td>427070339_1413275162</td>\n",
       "      <td>228976764_46825473280_96584</td>\n",
       "      <td>confirm</td>\n",
       "      <td>2017-04-02 11:46:45</td>\n",
       "    </tr>\n",
       "    <tr>\n",
       "      <th>3</th>\n",
       "      <td>836976</td>\n",
       "      <td>6.0</td>\n",
       "      <td>73.0</td>\n",
       "      <td>60.5</td>\n",
       "      <td>U</td>\n",
       "      <td>2.0</td>\n",
       "      <td>45105.3</td>\n",
       "      <td>6.0</td>\n",
       "      <td>9.0</td>\n",
       "      <td>Test</td>\n",
       "      <td>Senior</td>\n",
       "      <td>427070339_1413275162</td>\n",
       "      <td>228976764_46825473280_96584</td>\n",
       "      <td>step_3</td>\n",
       "      <td>2017-04-02 11:23:08</td>\n",
       "    </tr>\n",
       "    <tr>\n",
       "      <th>4</th>\n",
       "      <td>836976</td>\n",
       "      <td>6.0</td>\n",
       "      <td>73.0</td>\n",
       "      <td>60.5</td>\n",
       "      <td>U</td>\n",
       "      <td>2.0</td>\n",
       "      <td>45105.3</td>\n",
       "      <td>6.0</td>\n",
       "      <td>9.0</td>\n",
       "      <td>Test</td>\n",
       "      <td>Senior</td>\n",
       "      <td>427070339_1413275162</td>\n",
       "      <td>228976764_46825473280_96584</td>\n",
       "      <td>step_2</td>\n",
       "      <td>2017-04-02 11:22:24</td>\n",
       "    </tr>\n",
       "  </tbody>\n",
       "</table>\n",
       "</div>"
      ],
      "text/plain": [
       "   client_id  clnt_tenure_yr  clnt_tenure_mnth  clnt_age gendr  num_accts  \\\n",
       "0     836976             6.0              73.0      60.5     U        2.0   \n",
       "1     836976             6.0              73.0      60.5     U        2.0   \n",
       "2     836976             6.0              73.0      60.5     U        2.0   \n",
       "3     836976             6.0              73.0      60.5     U        2.0   \n",
       "4     836976             6.0              73.0      60.5     U        2.0   \n",
       "\n",
       "       bal  calls_6_mnth  logons_6_mnth Variation clnt_age_group  \\\n",
       "0  45105.3           6.0            9.0      Test         Senior   \n",
       "1  45105.3           6.0            9.0      Test         Senior   \n",
       "2  45105.3           6.0            9.0      Test         Senior   \n",
       "3  45105.3           6.0            9.0      Test         Senior   \n",
       "4  45105.3           6.0            9.0      Test         Senior   \n",
       "\n",
       "             visitor_id                     visit_id process_step  \\\n",
       "0  427070339_1413275162  228976764_46825473280_96584      confirm   \n",
       "1  427070339_1413275162  228976764_46825473280_96584      confirm   \n",
       "2  427070339_1413275162  228976764_46825473280_96584      confirm   \n",
       "3  427070339_1413275162  228976764_46825473280_96584       step_3   \n",
       "4  427070339_1413275162  228976764_46825473280_96584       step_2   \n",
       "\n",
       "            date_time  \n",
       "0 2017-04-02 11:51:13  \n",
       "1 2017-04-02 11:47:50  \n",
       "2 2017-04-02 11:46:45  \n",
       "3 2017-04-02 11:23:08  \n",
       "4 2017-04-02 11:22:24  "
      ]
     },
     "execution_count": 9,
     "metadata": {},
     "output_type": "execute_result"
    }
   ],
   "source": [
    "df_final.head()"
   ]
  },
  {
   "cell_type": "code",
   "execution_count": 10,
   "metadata": {},
   "outputs": [],
   "source": [
    "#Borraremos la columna clnt_age_group ya que no la necesitamos.\n",
    "if 'clnt_age_group' in df_final.columns:\n",
    "\tdf_final = df_final.drop(columns=['clnt_age_group'])\n",
    "if 'clnt_tenure_yr' in df_final.columns:\n",
    "\tdf_final = df_final.drop(columns=['clnt_tenure_yr'])"
   ]
  },
  {
   "cell_type": "code",
   "execution_count": 11,
   "metadata": {},
   "outputs": [],
   "source": [
    "# Asegúrate de que df_final_sorted esté definido antes de usarlo\n",
    "df_final_sorted = df_final.sort_values(by=['client_id', 'date_time'])\n",
    "df_final_sorted['time_diff'] = df_final_sorted.groupby('client_id')['date_time'].diff().dt.total_seconds() / 60.0\n",
    "\n",
    "# Definir las columnas relevantes para eliminar outliers\n",
    "columns_to_check = ['clnt_tenure_mnth', 'clnt_age', 'num_accts', 'bal', 'calls_6_mnth', 'logons_6_mnth', 'time_diff']\n",
    "\n",
    "# Eliminar outliers usando el método IQR\n",
    "for column in columns_to_check:\n",
    "    q1 = df_final_sorted[column].quantile(0.25)\n",
    "    q3 = df_final_sorted[column].quantile(0.75)\n",
    "    iqr = q3 - q1\n",
    "    lower_bound = q1 - 1.5 * iqr\n",
    "    upper_bound = q3 + 1.5 * iqr\n",
    "    df_final_sorted = df_final_sorted[(df_final_sorted[column] >= lower_bound) & (df_final_sorted[column] <= upper_bound)]"
   ]
  },
  {
   "cell_type": "code",
   "execution_count": 12,
   "metadata": {},
   "outputs": [
    {
     "data": {
      "text/plain": [
       "array(['Test', 'Control', nan], dtype=object)"
      ]
     },
     "execution_count": 12,
     "metadata": {},
     "output_type": "execute_result"
    }
   ],
   "source": [
    "df_final['Variation'].unique()"
   ]
  },
  {
   "cell_type": "code",
   "execution_count": 13,
   "metadata": {},
   "outputs": [],
   "source": [
    "# en la columna Variation, eliminaremos los nulos\n",
    "df_final = df_final.dropna(subset=['Variation'])"
   ]
  },
  {
   "cell_type": "markdown",
   "metadata": {},
   "source": [
    "KPI (Indicadores clave de rendimiento)"
   ]
  },
  {
   "cell_type": "code",
   "execution_count": 14,
   "metadata": {},
   "outputs": [],
   "source": [
    "# Identificar usuarios que han completado el proceso (confirm) y aquellos que no lo han hecho\n",
    "usuarios_completaron_test = df_final[(df_final['Variation'] == 'Test') & (df_final['process_step'] == 'confirm')]['client_id'].unique()\n",
    "usuarios_completaron_control = df_final[(df_final['Variation'] == 'Control') & (df_final['process_step'] == 'confirm')]['client_id'].unique()"
   ]
  },
  {
   "cell_type": "code",
   "execution_count": 15,
   "metadata": {},
   "outputs": [
    {
     "name": "stdout",
     "output_type": "stream",
     "text": [
      "Usuarios que completaron el proceso (Test): 18687\n",
      "Usuarios que completaron el proceso (Control): 15434\n"
     ]
    }
   ],
   "source": [
    "print(\"Usuarios que completaron el proceso (Test):\", len(usuarios_completaron_test))\n",
    "print(\"Usuarios que completaron el proceso (Control):\", len(usuarios_completaron_control))"
   ]
  },
  {
   "cell_type": "markdown",
   "metadata": {},
   "source": [
    "### Tasa de finalización : la proporción de usuarios que llegan al paso final de \"confirmación\".\n",
    "\n",
    "Usuarios que completaron el proceso (Test): 18687\n",
    "Usuarios que completaron el proceso (Control): 15434"
   ]
  },
  {
   "cell_type": "code",
   "execution_count": 16,
   "metadata": {},
   "outputs": [],
   "source": [
    "# Identificar usuarios que no han completado el proceso\n",
    "usuarios_no_completaron_test = df_final[(df_final['Variation'] == 'Test') & (~df_final['client_id'].isin(usuarios_completaron_test))]['client_id'].unique()\n",
    "usuarios_no_completaron_control = df_final[(df_final['Variation'] == 'Control') & (~df_final['client_id'].isin(usuarios_completaron_control))]['client_id'].unique()"
   ]
  },
  {
   "cell_type": "code",
   "execution_count": 17,
   "metadata": {},
   "outputs": [
    {
     "name": "stdout",
     "output_type": "stream",
     "text": [
      "Usuarios que no completaron el proceso (Test): 8279\n",
      "Usuarios que no completaron el proceso (Control): 8098\n"
     ]
    }
   ],
   "source": [
    "print(\"Usuarios que no completaron el proceso (Test):\", len(usuarios_no_completaron_test))\n",
    "print(\"Usuarios que no completaron el proceso (Control):\", len(usuarios_no_completaron_control))"
   ]
  },
  {
   "cell_type": "code",
   "execution_count": 18,
   "metadata": {},
   "outputs": [],
   "source": [
    "# Contar cuántos usuarios se quedaron en cada paso\n",
    "pasos_test = df_final[df_final['Variation'] == 'Test']['process_step'].value_counts()\n",
    "pasos_control = df_final[df_final['Variation'] == 'Control']['process_step'].value_counts()"
   ]
  },
  {
   "cell_type": "code",
   "execution_count": 19,
   "metadata": {},
   "outputs": [
    {
     "name": "stdout",
     "output_type": "stream",
     "text": [
      "\n",
      "Pasos (Test):\n",
      "process_step\n",
      "start      56469\n",
      "step_1     38765\n",
      "step_2     30989\n",
      "step_3     25894\n",
      "confirm    25722\n",
      "Name: count, dtype: int64\n",
      "\n",
      "Pasos (Control):\n",
      "process_step\n",
      "start      47608\n",
      "step_1     29668\n",
      "step_2     25886\n",
      "step_3     22795\n",
      "confirm    17505\n",
      "Name: count, dtype: int64\n"
     ]
    }
   ],
   "source": [
    "print(\"\\nPasos (Test):\")\n",
    "print(pasos_test)\n",
    "print(\"\\nPasos (Control):\")\n",
    "print(pasos_control)"
   ]
  },
  {
   "cell_type": "markdown",
   "metadata": {},
   "source": [
    "Tiempo dedicado a cada paso : la duración promedio que los usuarios dedican a cada paso."
   ]
  },
  {
   "cell_type": "code",
   "execution_count": 20,
   "metadata": {},
   "outputs": [],
   "source": [
    "# Calcular el tiempo entre conexiones de un paso a otro\n",
    "df_final_sorted = df_final.sort_values(by=['client_id', 'date_time'])\n",
    "\n",
    "df_final_sorted['time_diff'] = df_final_sorted.groupby('client_id')['date_time'].diff().dt.total_seconds() / 60.0"
   ]
  },
  {
   "cell_type": "code",
   "execution_count": 21,
   "metadata": {},
   "outputs": [],
   "source": [
    "# Filtrar por cada paso y calcular el tiempo entre conexiones\n",
    "time_diff_test = df_final_sorted[df_final_sorted['Variation'] == 'Test'].groupby('process_step')['time_diff'].mean()\n",
    "time_diff_control = df_final_sorted[df_final_sorted['Variation'] == 'Control'].groupby('process_step')['time_diff'].mean()"
   ]
  },
  {
   "cell_type": "code",
   "execution_count": 22,
   "metadata": {},
   "outputs": [
    {
     "name": "stdout",
     "output_type": "stream",
     "text": [
      "Tiempo promedio entre conexiones (Test):\n",
      "process_step\n",
      "confirm    1740.546385\n",
      "start      4496.282943\n",
      "step_1       22.331746\n",
      "step_2        1.853541\n",
      "step_3       12.315342\n",
      "Name: time_diff, dtype: float64\n",
      "Tiempo promedio entre conexiones (Control):\n",
      "process_step\n",
      "confirm    1101.288456\n",
      "start      6117.742410\n",
      "step_1       30.646361\n",
      "step_2        0.655704\n",
      "step_3        9.587008\n",
      "Name: time_diff, dtype: float64\n"
     ]
    }
   ],
   "source": [
    "# Mostrar resultados\n",
    "print(\"Tiempo promedio entre conexiones (Test):\")\n",
    "print(time_diff_test)\n",
    "print(\"Tiempo promedio entre conexiones (Control):\")\n",
    "print(time_diff_control)"
   ]
  },
  {
   "cell_type": "code",
   "execution_count": 23,
   "metadata": {},
   "outputs": [
    {
     "data": {
      "image/png": "[encoded data removed]",
      "text/plain": [
       "<Figure size 1200x600 with 1 Axes>"
      ]
     },
     "metadata": {},
     "output_type": "display_data"
    }
   ],
   "source": [
    "# Graficaas de los resultados obtenidos\n",
    "# Usuarios que completaron el proceso\n",
    "plt.figure(figsize=(12, 6))\n",
    "plt.bar(['Test', 'Control'], [len(usuarios_completaron_test), len(usuarios_completaron_control)], color=['blue', 'red'])\n",
    "plt.title('Usuarios que completaron el proceso')\n",
    "plt.ylabel('Cantidad de usuarios')\n",
    "plt.show()"
   ]
  },
  {
   "cell_type": "code",
   "execution_count": 24,
   "metadata": {},
   "outputs": [],
   "source": [
    "#Eliminemos los outliers de la columna 'time_diff' para que no afecten el cálculo de la media\n",
    "q1 = df_final_sorted['time_diff'].quantile(0.25)\n",
    "q3 = df_final_sorted['time_diff'].quantile(0.75)\n",
    "iqr = q3 - q1\n",
    "lower_bound = q1 - 1.5 * iqr\n",
    "upper_bound = q3 + 1.5 * iqr\n",
    "df_final_sorted = df_final_sorted[(df_final_sorted['time_diff'] > lower_bound) & (df_final_sorted['time_diff'] < upper_bound)]\n"
   ]
  },
  {
   "cell_type": "code",
   "execution_count": 25,
   "metadata": {},
   "outputs": [
    {
     "data": {
      "text/html": [
       "<div>\n",
       "<style scoped>\n",
       "    .dataframe tbody tr th:only-of-type {\n",
       "        vertical-align: middle;\n",
       "    }\n",
       "\n",
       "    .dataframe tbody tr th {\n",
       "        vertical-align: top;\n",
       "    }\n",
       "\n",
       "    .dataframe thead th {\n",
       "        text-align: right;\n",
       "    }\n",
       "</style>\n",
       "<table border=\"1\" class=\"dataframe\">\n",
       "  <thead>\n",
       "    <tr style=\"text-align: right;\">\n",
       "      <th></th>\n",
       "      <th>client_id</th>\n",
       "      <th>visit_id</th>\n",
       "      <th>process_step</th>\n",
       "      <th>time_diff</th>\n",
       "    </tr>\n",
       "  </thead>\n",
       "  <tbody>\n",
       "    <tr>\n",
       "      <th>255451</th>\n",
       "      <td>555</td>\n",
       "      <td>637149525_38041617439_716659</td>\n",
       "      <td>step_2</td>\n",
       "      <td>0.533333</td>\n",
       "    </tr>\n",
       "    <tr>\n",
       "      <th>255450</th>\n",
       "      <td>555</td>\n",
       "      <td>637149525_38041617439_716659</td>\n",
       "      <td>step_3</td>\n",
       "      <td>1.650000</td>\n",
       "    </tr>\n",
       "    <tr>\n",
       "      <th>255449</th>\n",
       "      <td>555</td>\n",
       "      <td>637149525_38041617439_716659</td>\n",
       "      <td>confirm</td>\n",
       "      <td>0.333333</td>\n",
       "    </tr>\n",
       "    <tr>\n",
       "      <th>9747</th>\n",
       "      <td>647</td>\n",
       "      <td>40369564_40101682850_311847</td>\n",
       "      <td>step_2</td>\n",
       "      <td>0.300000</td>\n",
       "    </tr>\n",
       "    <tr>\n",
       "      <th>9746</th>\n",
       "      <td>647</td>\n",
       "      <td>40369564_40101682850_311847</td>\n",
       "      <td>step_3</td>\n",
       "      <td>3.150000</td>\n",
       "    </tr>\n",
       "  </tbody>\n",
       "</table>\n",
       "</div>"
      ],
      "text/plain": [
       "        client_id                      visit_id process_step  time_diff\n",
       "255451        555  637149525_38041617439_716659       step_2   0.533333\n",
       "255450        555  637149525_38041617439_716659       step_3   1.650000\n",
       "255449        555  637149525_38041617439_716659      confirm   0.333333\n",
       "9747          647   40369564_40101682850_311847       step_2   0.300000\n",
       "9746          647   40369564_40101682850_311847       step_3   3.150000"
      ]
     },
     "execution_count": 25,
     "metadata": {},
     "output_type": "execute_result"
    }
   ],
   "source": [
    "# Agrupar por client_id y visit_id, y calcular la diferencia de tiempo entre cada paso\n",
    "df_final_sorted['time_diff'] = df_final_sorted.groupby(['client_id', 'visit_id'])['date_time'].diff().dt.total_seconds() / 60.0\n",
    "\n",
    "# Filtrar las filas donde time_diff no es nulo\n",
    "df_time_per_step = df_final_sorted.dropna(subset=['time_diff'])\n",
    "\n",
    "# Seleccionar las columnas relevantes\n",
    "df_time_per_step = df_time_per_step[['client_id', 'visit_id', 'process_step', 'time_diff']]\n",
    "\n",
    "# Mostrar los primeros resultados\n",
    "df_time_per_step.head()"
   ]
  },
  {
   "cell_type": "code",
   "execution_count": 26,
   "metadata": {},
   "outputs": [],
   "source": [
    "# Filtrar por usuarios en test y eliminar el tiempo de confirmación\n",
    "df_test = df_final_sorted[(df_final_sorted['Variation'] == 'Test') & (df_final_sorted['process_step'] != 'confirm')]\n",
    "\n",
    "# Filtrar por usuarios en control y eliminar el tiempo de confirmación\n",
    "df_control = df_final_sorted[(df_final_sorted['Variation'] == 'Control') & (df_final_sorted['process_step'] != 'confirm')]\n"
   ]
  },
  {
   "cell_type": "code",
   "execution_count": 27,
   "metadata": {},
   "outputs": [
    {
     "data": {
      "image/png": "[encoded data removed]",
      "text/plain": [
       "<Figure size 1200x600 with 1 Axes>"
      ]
     },
     "metadata": {},
     "output_type": "display_data"
    }
   ],
   "source": [
    "# Calcular el tiempo promedio entre pasos para los usuarios en Test\n",
    "time_per_step_test = df_test.groupby('process_step')['time_diff'].mean()\n",
    "\n",
    "# Calcular el tiempo promedio entre pasos para los usuarios en Control\n",
    "time_per_step_control = df_control.groupby('process_step')['time_diff'].mean()\n",
    "\n",
    "# Crear una gráfica de barras para comparar los tiempos promedio entre pasos\n",
    "labels = time_per_step_test.index\n",
    "test_means = time_per_step_test.values\n",
    "control_means = time_per_step_control.values\n",
    "\n",
    "x = np.arange(len(labels))  # la posición de las etiquetas en el eje x\n",
    "width = 0.35  # el ancho de las barras\n",
    "\n",
    "fig, ax = plt.subplots(figsize=(12, 6))\n",
    "rects1 = ax.bar(x - width/2, test_means, width, label='Test')\n",
    "rects2 = ax.bar(x + width/2, control_means, width, label='Control')\n",
    "\n",
    "# Añadir algunas etiquetas\n",
    "ax.set_xlabel('Pasos del proceso')\n",
    "ax.set_ylabel('Tiempo promedio (minutos)')\n",
    "ax.set_title('Comparación de tiempos promedio entre pasos para usuarios en Test y Control')\n",
    "ax.set_xticks(x)\n",
    "ax.set_xticklabels(labels)\n",
    "ax.legend()\n",
    "\n",
    "fig.tight_layout()\n",
    "\n",
    "plt.show()"
   ]
  },
  {
   "cell_type": "code",
   "execution_count": 28,
   "metadata": {},
   "outputs": [
    {
     "name": "stdout",
     "output_type": "stream",
     "text": [
      "Tiempo promedio entre pasos (Test):\n",
      "process_step\n",
      "start     1.483734\n",
      "step_1    2.063019\n",
      "step_2    0.736502\n",
      "step_3    1.346891\n",
      "Name: time_diff, dtype: float64\n",
      "\n",
      "Tiempo promedio entre pasos (Control):\n",
      "process_step\n",
      "start     2.180694\n",
      "step_1    1.952783\n",
      "step_2    0.690743\n",
      "step_3    1.313744\n",
      "Name: time_diff, dtype: float64\n"
     ]
    }
   ],
   "source": [
    "print(\"Tiempo promedio entre pasos (Test):\")\n",
    "print(time_per_step_test)\n",
    "print(\"\\nTiempo promedio entre pasos (Control):\")\n",
    "print(time_per_step_control)\n"
   ]
  },
  {
   "cell_type": "markdown",
   "metadata": {},
   "source": [
    "Tiempo dedicado a cada paso : la duración promedio que los usuarios dedican a cada paso."
   ]
  },
  {
   "cell_type": "markdown",
   "metadata": {},
   "source": [
    "Tiempo promedio entre pasos (Test):\n",
    "process_step\n",
    "start     2.452503\n",
    "step_1    0.628393\n",
    "step_2    0.802194\n",
    "step_3    1.614183\n",
    "Name: time_diff, dtype: float64\n",
    "\n",
    "Tiempo promedio entre pasos (Control):\n",
    "process_step\n",
    "start     2.522767\n",
    "step_1    0.716646\n",
    "step_2    0.644464\n",
    "step_3    1.549071\n",
    "Name: time_diff, dtype: float64"
   ]
  },
  {
   "cell_type": "markdown",
   "metadata": {},
   "source": [
    "Tasas de error : si hay un paso en el que los usuarios vuelven a un paso anterior, puede indicar confusión o un error. Debe considerar que pasar de un paso posterior a uno anterior es un error."
   ]
  },
  {
   "cell_type": "code",
   "execution_count": 29,
   "metadata": {},
   "outputs": [],
   "source": [
    "# Calcular el número de errores para cada usuario\n",
    "\n",
    "def calcular_errores(grupo):\n",
    "    errores = 0\n",
    "    valores_ordenados = sorted(grupo.values)\n",
    "    for i in range(len(grupo)):\n",
    "        if grupo.iloc[i] != valores_ordenados[i]:\n",
    "            errores += 1\n",
    "    return errores"
   ]
  },
  {
   "cell_type": "code",
   "execution_count": 30,
   "metadata": {},
   "outputs": [],
   "source": [
    "df_final_sorted['error'] = df_final_sorted.groupby('client_id')['process_step'].apply(calcular_errores)"
   ]
  },
  {
   "cell_type": "code",
   "execution_count": 31,
   "metadata": {},
   "outputs": [
    {
     "name": "stdout",
     "output_type": "stream",
     "text": [
      "Tasa de error (Test): 3.800632911392405\n",
      "Tasa de error (Control): 3.754166666666667\n"
     ]
    }
   ],
   "source": [
    "# Calcular la tasa de error para cada variación\n",
    "error_rate_test = df_final_sorted[df_final_sorted['Variation'] == 'Test']['error'].mean()\n",
    "error_rate_control = df_final_sorted[df_final_sorted['Variation'] == 'Control']['error'].mean()\n",
    "\n",
    "print(\"Tasa de error (Test):\", error_rate_test)\n",
    "print(\"Tasa de error (Control):\", error_rate_control)"
   ]
  },
  {
   "cell_type": "code",
   "execution_count": 32,
   "metadata": {},
   "outputs": [
    {
     "data": {
      "image/png": "[encoded data removed]",
      "text/plain": [
       "<Figure size 1200x600 with 1 Axes>"
      ]
     },
     "metadata": {},
     "output_type": "display_data"
    }
   ],
   "source": [
    "# grafica Tasa de error (Test): 3.800632911392405 y Tasa de error (Control): 3.800632911392405\n",
    "plt.figure(figsize=(12, 6))\n",
    "plt.bar(['Test', 'Control'], [error_rate_test, error_rate_control], color=['blue', 'red'])\n",
    "plt.title('Tasa de error')\n",
    "plt.ylabel('Cantidad de errores')\n",
    "plt.show()"
   ]
  },
  {
   "cell_type": "markdown",
   "metadata": {},
   "source": [
    "Tasa de error (Test): 3.800632911392405\n",
    "Tasa de error (Control): 3.754166666666667"
   ]
  },
  {
   "cell_type": "markdown",
   "metadata": {},
   "source": [
    "Resultado del rediseño\n",
    "\n",
    "\n",
    "En función de los KPI elegidos, ¿cómo se compara el rendimiento del nuevo diseño con el anterior?\n",
    "\n"
   ]
  },
  {
   "cell_type": "code",
   "execution_count": 40,
   "metadata": {},
   "outputs": [
    {
     "name": "stdout",
     "output_type": "stream",
     "text": [
      "Tasa de finalización (Test): 69.30%\n",
      "Tasa de finalización (Control): 65.59%\n",
      "Aumento observado en la tasa de finalización: 3.71%\n",
      "Tasa de error (Test): 3.80\n",
      "Tasa de error (Control): 3.75\n",
      "\n",
      "Tiempo promedio entre conexiones (Test):\n",
      "process_step\n",
      "confirm    1740.546385\n",
      "start      4496.282943\n",
      "step_1       22.331746\n",
      "step_2        1.853541\n",
      "step_3       12.315342\n",
      "Name: time_diff, dtype: float64\n",
      "\n",
      "Tiempo promedio entre conexiones (Control):\n",
      "process_step\n",
      "confirm    1101.288456\n",
      "start      6117.742410\n",
      "step_1       30.646361\n",
      "step_2        0.655704\n",
      "step_3        9.587008\n",
      "Name: time_diff, dtype: float64\n"
     ]
    }
   ],
   "source": [
    "# Tasa de finalización\n",
    "print(f\"Tasa de finalización (Test): {completion_rate_test:.2%}\")\n",
    "print(f\"Tasa de finalización (Control): {completion_rate_control:.2%}\")\n",
    "print(f\"Aumento observado en la tasa de finalización: {aumento_observado:.2%}\")\n",
    "# Tasa de error\n",
    "print(f\"Tasa de error (Test): {error_rate_test:.2f}\")\n",
    "print(f\"Tasa de error (Control): {error_rate_control:.2f}\")\n",
    "# Tiempo promedio entre conexiones\n",
    "print(\"\\nTiempo promedio entre conexiones (Test):\")\n",
    "print(time_diff_test)\n",
    "print(\"\\nTiempo promedio entre conexiones (Control):\")\n",
    "print(time_diff_control)"
   ]
  },
  {
   "cell_type": "markdown",
   "metadata": {},
   "source": [
    "## Hipótesis \n"
   ]
  },
  {
   "cell_type": "markdown",
   "metadata": {},
   "source": [
    "Tasa de finalización"
   ]
  },
  {
   "cell_type": "code",
   "execution_count": 44,
   "metadata": {},
   "outputs": [],
   "source": [
    "from scipy.stats import ttest_ind\n",
    "\n"
   ]
  },
  {
   "cell_type": "code",
   "execution_count": 45,
   "metadata": {},
   "outputs": [],
   "source": [
    "# definimos la Hipótesis nula y la Hipótesis alternativa\n",
    "# H0: No hay una diferencia significativa en la tasa de finalización entre los grupos de prueba y de control\n",
    "# H1: Existe una diferencia significativa en la tasa de finalización entre los grupos de prueba y de control"
   ]
  },
  {
   "cell_type": "code",
   "execution_count": 46,
   "metadata": {},
   "outputs": [
    {
     "name": "stdout",
     "output_type": "stream",
     "text": [
      "Estadístico t: -1.3764143769002999\n",
      "Valor p: 0.16870241210362807\n",
      "No podemos rechazar la hipótesis nula. No hay una diferencia significativa en la tasa de finalización entre los grupos de prueba y de control.\n"
     ]
    }
   ],
   "source": [
    "# Definir las tasas de finalización y el tamaño de las muestras\n",
    "completion_rate_test = len(usuarios_completaron_test) / len(df_final[df_final['Variation'] == 'Test']['client_id'].unique())\n",
    "completion_rate_control = len(usuarios_completaron_control) / len(df_final[df_final['Variation'] == 'Control']['client_id'].unique())\n",
    "\n",
    "n_test = len(df_final[df_final['Variation'] == 'Test']['client_id'].unique())\n",
    "n_control = len(df_final[df_final['Variation'] == 'Control']['client_id'].unique())\n",
    "# Realizar la prueba t de dos muestras independientes\n",
    "t_stat, p_value = ttest_ind(usuarios_completaron_test, usuarios_completaron_control)\n",
    "\n",
    "# Definir el nivel de significancia\n",
    "alpha = 0.05\n",
    "\n",
    "# Imprimir los resultados\n",
    "print(f\"Estadístico t: {t_stat}\")\n",
    "print(f\"Valor p: {p_value}\")\n",
    "\n",
    "# Determinar si rechazamos la hipótesis nula\n",
    "if p_value < alpha:\n",
    "    print(\"Rechazamos la hipótesis nula. Hay una diferencia significativa en la tasa de finalización entre los grupos de prueba y de control.\")\n",
    "else:\n",
    "    print(\"No podemos rechazar la hipótesis nula. No hay una diferencia significativa en la tasa de finalización entre los grupos de prueba y de control.\")"
   ]
  },
  {
   "cell_type": "markdown",
   "metadata": {},
   "source": [
    "Tasa de finalización con un umbral de costo-efectividad"
   ]
  },
  {
   "cell_type": "code",
   "execution_count": 47,
   "metadata": {},
   "outputs": [
    {
     "name": "stdout",
     "output_type": "stream",
     "text": [
      "El aumento observado en la tasa de finalización (3.71%) no cumple con el umbral del 5%.\n"
     ]
    }
   ],
   "source": [
    "# Definir el umbral de aumento mínimo en la tasa de finalización\n",
    "umbral_aumento = 0.05\n",
    "\n",
    "# Calcular el aumento observado en la tasa de finalización\n",
    "aumento_observado = completion_rate_test - completion_rate_control\n",
    "\n",
    "# Comparar el aumento observado con el umbral\n",
    "if aumento_observado >= umbral_aumento:\n",
    "    print(f\"El aumento observado en la tasa de finalización ({aumento_observado:.2%}) cumple o supera el umbral del 5%.\")\n",
    "else:\n",
    "    print(f\"El aumento observado en la tasa de finalización ({aumento_observado:.2%}) no cumple con el umbral del 5%.\")"
   ]
  },
  {
   "cell_type": "markdown",
   "metadata": {},
   "source": [
    "Otras Hipótesis"
   ]
  },
  {
   "cell_type": "code",
   "execution_count": 48,
   "metadata": {},
   "outputs": [],
   "source": [
    "# H0: Hay una diferencia significativa en la edad promedio entre los grupos de prueba y de control\n",
    "# H1: No hay una diferencia significativa en la edad promedio entre los grupos"
   ]
  },
  {
   "cell_type": "code",
   "execution_count": 49,
   "metadata": {},
   "outputs": [
    {
     "name": "stdout",
     "output_type": "stream",
     "text": [
      "Estadístico t: 7.937665504659508\n",
      "Valor p: 2.066796718678905e-15\n",
      "Rechazamos la hipótesis nula. Hay una diferencia significativa en la edad promedio entre los grupos de prueba y de control.\n"
     ]
    }
   ],
   "source": [
    "# Filtrar las edades de los clientes para cada grupo\n",
    "edad_test = df_final[df_final['Variation'] == 'Test']['clnt_age'].dropna()\n",
    "edad_control = df_final[df_final['Variation'] == 'Control']['clnt_age'].dropna()\n",
    "\n",
    "# Realizar la prueba t de dos muestras independientes\n",
    "t_stat, p_value = ttest_ind(edad_test, edad_control)\n",
    "\n",
    "# Imprimir los resultados\n",
    "print(f\"Estadístico t: {t_stat}\")\n",
    "print(f\"Valor p: {p_value}\")\n",
    "\n",
    "# Determinar si rechazamos la hipótesis nula\n",
    "if p_value < alpha:\n",
    "    print(\"Rechazamos la hipótesis nula. Hay una diferencia significativa en la edad promedio entre los grupos de prueba y de control.\")\n",
    "else:\n",
    "    print(\"No podemos rechazar la hipótesis nula. No hay una diferencia significativa en la edad promedio entre los grupos de prueba y de control.\")"
   ]
  },
  {
   "cell_type": "code",
   "execution_count": 50,
   "metadata": {},
   "outputs": [
    {
     "name": "stdout",
     "output_type": "stream",
     "text": [
      "Estadístico t: 0.5222569822079763\n",
      "Valor p: 0.6014917765459376\n",
      "No podemos rechazar la hipótesis nula. No hay una diferencia significativa en la permanencia promedio entre los grupos de prueba y de control.\n"
     ]
    }
   ],
   "source": [
    "# Filtrar la permanencia de los clientes para cada grupo\n",
    "tenure_test = df_final[df_final['Variation'] == 'Test']['clnt_tenure_mnth'].dropna()\n",
    "tenure_control = df_final[df_final['Variation'] == 'Control']['clnt_tenure_mnth'].dropna()\n",
    "\n",
    "# Realizar la prueba t de dos muestras independientes\n",
    "t_stat, p_value = ttest_ind(tenure_test, tenure_control)\n",
    "\n",
    "# Imprimir los resultados\n",
    "print(f\"Estadístico t: {t_stat}\")\n",
    "print(f\"Valor p: {p_value}\")\n",
    "\n",
    "# Determinar si rechazamos la hipótesis nula\n",
    "if p_value < alpha:\n",
    "    print(\"Rechazamos la hipótesis nula. Hay una diferencia significativa en la permanencia promedio entre los grupos de prueba y de control.\")\n",
    "else:\n",
    "    print(\"No podemos rechazar la hipótesis nula. No hay una diferencia significativa en la permanencia promedio entre los grupos de prueba y de control.\")"
   ]
  },
  {
   "cell_type": "code",
   "execution_count": 51,
   "metadata": {},
   "outputs": [
    {
     "name": "stdout",
     "output_type": "stream",
     "text": [
      "Estadístico chi-cuadrado: 47.84376103857565\n",
      "Valor p: 4.0818711710883206e-11\n",
      "Rechazamos la hipótesis nula. Hay una diferencia significativa en la participación por género entre los grupos de prueba y de control.\n"
     ]
    }
   ],
   "source": [
    "from scipy.stats import chi2_contingency\n",
    "\n",
    "# Crear una tabla de contingencia para el género y la variación\n",
    "contingency_table = pd.crosstab(df_final['gendr'], df_final['Variation'])\n",
    "\n",
    "# Realizar la prueba de chi-cuadrado\n",
    "chi2_stat, p_val, dof, ex = chi2_contingency(contingency_table)\n",
    "\n",
    "# Imprimir los resultados\n",
    "print(f\"Estadístico chi-cuadrado: {chi2_stat}\")\n",
    "print(f\"Valor p: {p_val}\")\n",
    "\n",
    "# Determinar si rechazamos la hipótesis nula\n",
    "if p_val < alpha:\n",
    "    print(\"Rechazamos la hipótesis nula. Hay una diferencia significativa en la participación por género entre los grupos de prueba y de control.\")\n",
    "else:\n",
    "    print(\"No podemos rechazar la hipótesis nula. No hay una diferencia significativa en la participación por género entre los grupos de prueba y de control.\")"
   ]
  },
  {
   "cell_type": "markdown",
   "metadata": {},
   "source": [
    "Evaluación del experimento"
   ]
  },
  {
   "cell_type": "markdown",
   "metadata": {},
   "source": [
    "¿El experimento estuvo bien estructurado?"
   ]
  },
  {
   "cell_type": "code",
   "execution_count": 52,
   "metadata": {},
   "outputs": [],
   "source": [
    "# Una cantidad significativa de usuarios no completaron el proceso en ambos grupos\n",
    "# La tasa de error es similar en ambos grupos\n",
    "# No hay una diferencia significativa en la tasa de finalización entre los grupos de prueba y de control\n",
    "# No hay una diferencia significativa en la edad promedio entre los grupos\n",
    "\n",
    "\n",
    "# Conclusión\n",
    "# En general, no hay una diferencia significativa en la participación de los usuarios entre los grupos de prueba y de control.\n",
    "# Sin embargo, se observa que una cantidad significativa de usuarios no completaron el proceso en ambos grupos, lo que sugiere que puede haber oportunidades para mejorar la experiencia del usuario."
   ]
  },
  {
   "cell_type": "markdown",
   "metadata": {},
   "source": [
    "¿Los clientes se dividieron de forma aleatoria y equitativa entre los diseños antiguos y los nuevos?"
   ]
  },
  {
   "cell_type": "code",
   "execution_count": 53,
   "metadata": {},
   "outputs": [],
   "source": [
    "# H0: Hay una diferencia significativa en la edad promedio entre los grupos de prueba y de control\n",
    "# h1: No hay una diferencia significativa en la edad promedio entre los grupos de prueba y de control"
   ]
  },
  {
   "cell_type": "code",
   "execution_count": 54,
   "metadata": {},
   "outputs": [
    {
     "name": "stdout",
     "output_type": "stream",
     "text": [
      "Prueba t para las edades:\n",
      "Estadístico t: 7.937665504659508\n",
      "Valor p: 2.066796718678905e-15\n",
      "Rechazamos la hipótesis nula para las edades. Hay una diferencia significativa en la edad promedio entre los grupos de prueba y de control.\n"
     ]
    }
   ],
   "source": [
    "# Filtrar las edades de los clientes para cada grupo\n",
    "edad_test = df_final[df_final['Variation'] == 'Test']['clnt_age'].dropna()\n",
    "edad_control = df_final[df_final['Variation'] == 'Control']['clnt_age'].dropna()\n",
    "\n",
    "# Realizar la prueba t de dos muestras independientes para las edades\n",
    "t_stat_edad, p_value_edad = ttest_ind(edad_test, edad_control)\n",
    "\n",
    "# Imprimir los resultados\n",
    "print(f\"Prueba t para las edades:\")\n",
    "print(f\"Estadístico t: {t_stat_edad}\")\n",
    "print(f\"Valor p: {p_value_edad}\")\n",
    "\n",
    "# Determinar si rechazamos la hipótesis nula\n",
    "alpha = 0.05\n",
    "if p_value_edad < alpha:\n",
    "    print(\"Rechazamos la hipótesis nula para las edades. Hay una diferencia significativa en la edad promedio entre los grupos de prueba y de control.\")\n",
    "else:\n",
    "    print(\"No podemos rechazar la hipótesis nula para las edades. No hay una diferencia significativa en la edad promedio entre los grupos de prueba y de control.\")"
   ]
  },
  {
   "cell_type": "code",
   "execution_count": 55,
   "metadata": {},
   "outputs": [],
   "source": [
    "# H0: Hay una diferencia significativa en la permanencia promedio entre los grupos de prueba y de control\n",
    "# H1: No hay una diferencia significativa en la permanencia promedio entre los grupos de prueba y de control"
   ]
  },
  {
   "cell_type": "code",
   "execution_count": 56,
   "metadata": {},
   "outputs": [
    {
     "name": "stdout",
     "output_type": "stream",
     "text": [
      "\n",
      "Prueba t para la permanencia:\n",
      "Estadístico t: 0.5222569822079763\n",
      "Valor p: 0.6014917765459376\n",
      "No podemos rechazar la hipótesis nula para la permanencia. No hay una diferencia significativa en la permanencia promedio entre los grupos de prueba y de control.\n"
     ]
    }
   ],
   "source": [
    "# Filtrar la permanencia de los clientes para cada grupo\n",
    "tenure_test = df_final[df_final['Variation'] == 'Test']['clnt_tenure_mnth'].dropna()\n",
    "tenure_control = df_final[df_final['Variation'] == 'Control']['clnt_tenure_mnth'].dropna()\n",
    "\n",
    "# Realizar la prueba t de dos muestras independientes para la permanencia\n",
    "t_stat_tenure, p_value_tenure = ttest_ind(tenure_test, tenure_control)\n",
    "\n",
    "print(f\"\\nPrueba t para la permanencia:\")\n",
    "print(f\"Estadístico t: {t_stat_tenure}\")\n",
    "print(f\"Valor p: {p_value_tenure}\")\n",
    "\n",
    "# Determinar si rechazamos la hipótesis nula\n",
    "alpha = 0.05\n",
    "\n",
    "if p_value_tenure < alpha:\n",
    "    print(\"Rechazamos la hipótesis nula para la permanencia. Hay una diferencia significativa en la permanencia promedio entre los grupos de prueba y de control.\")\n",
    "else:\n",
    "    print(\"No podemos rechazar la hipótesis nula para la permanencia. No hay una diferencia significativa en la permanencia promedio entre los grupos de prueba y de control.\")"
   ]
  },
  {
   "cell_type": "markdown",
   "metadata": {},
   "source": [
    "Prueba t para las edades:\n",
    "Estadístico t: 7.937665504659508\n",
    "Valor p: 2.066796718678905e-15\n",
    "Rechazamos la hipótesis nula para las edades. Hay una diferencia significativa en la edad promedio entre los grupos de prueba y de control\n",
    "\n",
    "Prueba t para la permanencia:\n",
    "Estadístico t: 0.5222569822079763\n",
    "Valor p: 0.6014917765459376\n",
    "Rechazamos la hipótesis nula para las edades. Hay una diferencia significativa en la edad promedio entre los grupos de prueba y de control."
   ]
  },
  {
   "cell_type": "code",
   "execution_count": null,
   "metadata": {},
   "outputs": [],
   "source": []
  },
  {
   "cell_type": "markdown",
   "metadata": {},
   "source": [
    "Evaluación del experimento"
   ]
  },
  {
   "cell_type": "markdown",
   "metadata": {},
   "source": [
    "¿El experimento estuvo bien estructurado?"
   ]
  },
  {
   "cell_type": "code",
   "execution_count": 58,
   "metadata": {},
   "outputs": [
    {
     "name": "stdout",
     "output_type": "stream",
     "text": [
      "Prueba t para las edades:\n",
      "Estadístico t: 7.937665504659508\n",
      "Valor p: 2.066796718678905e-15\n",
      "\n",
      "Prueba t para la permanencia:\n",
      "Estadístico t: 0.5222569822079763\n",
      "Valor p: 0.6014917765459376\n",
      "\n",
      "Prueba de chi-cuadrado para la distribución de género:\n",
      "Estadístico chi-cuadrado: 47.84376103857565\n",
      "Valor p: 4.0818711710883206e-11\n",
      "Hay una diferencia significativa en la edad promedio entre los grupos de prueba y de control.\n",
      "No hay una diferencia significativa en la permanencia promedio entre los grupos de prueba y de control.\n",
      "Hay una diferencia significativa en la distribución de género entre los grupos de prueba y de control.\n"
     ]
    }
   ],
   "source": [
    "# Verificar la aleatorización y la equidad en la distribución de los clientes\n",
    "# Prueba t para la edad promedio entre los grupos de prueba y control\n",
    "t_stat_edad, p_value_edad = ttest_ind(edad_test, edad_control)\n",
    "print(f\"Prueba t para las edades:\")\n",
    "print(f\"Estadístico t: {t_stat_edad}\")\n",
    "print(f\"Valor p: {p_value_edad}\")\n",
    "\n",
    "# Prueba t para la permanencia promedio entre los grupos de prueba y control\n",
    "t_stat_tenure, p_value_tenure = ttest_ind(tenure_test, tenure_control)\n",
    "print(f\"\\nPrueba t para la permanencia:\")\n",
    "print(f\"Estadístico t: {t_stat_tenure}\")\n",
    "print(f\"Valor p: {p_value_tenure}\")\n",
    "\n",
    "# Prueba de chi-cuadrado para la distribución de género entre los grupos de prueba y control\n",
    "chi2_stat, p_val, dof, ex = chi2_contingency(contingency_table)\n",
    "print(f\"\\nPrueba de chi-cuadrado para la distribución de género:\")\n",
    "print(f\"Estadístico chi-cuadrado: {chi2_stat}\")\n",
    "print(f\"Valor p: {p_val}\")\n",
    "\n",
    "# Evaluar los resultados\n",
    "if p_value_edad < alpha:\n",
    "    print(\"Hay una diferencia significativa en la edad promedio entre los grupos de prueba y de control.\")\n",
    "else:\n",
    "    print(\"No hay una diferencia significativa en la edad promedio entre los grupos de prueba y de control.\")\n",
    "\n",
    "if p_value_tenure < alpha:\n",
    "    print(\"Hay una diferencia significativa en la permanencia promedio entre los grupos de prueba y de control.\")\n",
    "else:\n",
    "    print(\"No hay una diferencia significativa en la permanencia promedio entre los grupos de prueba y de control.\")\n",
    "\n",
    "if p_val < alpha:\n",
    "    print(\"Hay una diferencia significativa en la distribución de género entre los grupos de prueba y de control.\")\n",
    "else:\n",
    "    print(\"No hay una diferencia significativa en la distribución de género entre los grupos de prueba y de control.\")"
   ]
  },
  {
   "cell_type": "code",
   "execution_count": null,
   "metadata": {},
   "outputs": [],
   "source": [
    "# No, debería haber una diferencia significativa en la tasa de finalización entre los grupos de prueba y de control\n",
    "# No, debería haber una diferencia significativa en la tasa de error entre los grupos de prueba y de control\n"
   ]
  },
  {
   "cell_type": "markdown",
   "metadata": {},
   "source": [
    "¿Los clientes se dividieron de forma aleatoria e igualitaria entre los diseños antiguos y los nuevos?"
   ]
  },
  {
   "cell_type": "code",
   "execution_count": 59,
   "metadata": {},
   "outputs": [
    {
     "name": "stdout",
     "output_type": "stream",
     "text": [
      "Prueba t para las edades:\n",
      "Estadístico t: 7.937665504659508\n",
      "Valor p: 2.066796718678905e-15\n",
      "\n",
      "Prueba t para la permanencia:\n",
      "Estadístico t: 0.5222569822079763\n",
      "Valor p: 0.6014917765459376\n",
      "\n",
      "Prueba de chi-cuadrado para la distribución de género:\n",
      "Estadístico chi-cuadrado: 47.84376103857565\n",
      "Valor p: 4.0818711710883206e-11\n",
      "Hay una diferencia significativa en la edad promedio entre los grupos de prueba y de control.\n",
      "No hay una diferencia significativa en la permanencia promedio entre los grupos de prueba y de control.\n",
      "Hay una diferencia significativa en la distribución de género entre los grupos de prueba y de control.\n"
     ]
    }
   ],
   "source": [
    "# Verificar la aleatorización y la equidad en la distribución de los clientes\n",
    "\n",
    "# Prueba t para la edad promedio entre los grupos de prueba y control\n",
    "t_stat_edad, p_value_edad = ttest_ind(edad_test, edad_control)\n",
    "print(f\"Prueba t para las edades:\")\n",
    "print(f\"Estadístico t: {t_stat_edad}\")\n",
    "print(f\"Valor p: {p_value_edad}\")\n",
    "\n",
    "# Prueba t para la permanencia promedio entre los grupos de prueba y control\n",
    "t_stat_tenure, p_value_tenure = ttest_ind(tenure_test, tenure_control)\n",
    "print(f\"\\nPrueba t para la permanencia:\")\n",
    "print(f\"Estadístico t: {t_stat_tenure}\")\n",
    "print(f\"Valor p: {p_value_tenure}\")\n",
    "\n",
    "# Prueba de chi-cuadrado para la distribución de género entre los grupos de prueba y control\n",
    "chi2_stat, p_val, dof, ex = chi2_contingency(contingency_table)\n",
    "print(f\"\\nPrueba de chi-cuadrado para la distribución de género:\")\n",
    "print(f\"Estadístico chi-cuadrado: {chi2_stat}\")\n",
    "print(f\"Valor p: {p_val}\")\n",
    "\n",
    "# Evaluar los resultados\n",
    "if p_value_edad < alpha:\n",
    "    print(\"Hay una diferencia significativa en la edad promedio entre los grupos de prueba y de control.\")\n",
    "else:\n",
    "    print(\"No hay una diferencia significativa en la edad promedio entre los grupos de prueba y de control.\")\n",
    "\n",
    "if p_value_tenure < alpha:\n",
    "    print(\"Hay una diferencia significativa en la permanencia promedio entre los grupos de prueba y de control.\")\n",
    "else:\n",
    "    print(\"No hay una diferencia significativa en la permanencia promedio entre los grupos de prueba y de control.\")\n",
    "\n",
    "if p_val < alpha:\n",
    "    print(\"Hay una diferencia significativa en la distribución de género entre los grupos de prueba y de control.\")\n",
    "else:\n",
    "    print(\"No hay una diferencia significativa en la distribución de género entre los grupos de prueba y de control.\")"
   ]
  },
  {
   "cell_type": "markdown",
   "metadata": {},
   "source": [
    "¿Hubo algún sesgo?"
   ]
  },
  {
   "cell_type": "code",
   "execution_count": null,
   "metadata": {},
   "outputs": [],
   "source": [
    "# Hay una diferencia significativa en la edad promedio entre los grupos de prueba y de control.\n",
    " #No hay una diferencia significativa en la permanencia promedio entre los grupos de prueba y de control.\n",
    "#Hay una diferencia significativa en la distribución de género entre los grupos de prueba y de control."
   ]
  },
  {
   "cell_type": "markdown",
   "metadata": {},
   "source": [
    "Evaluación de duración\n",
    "¿Fue el período de tiempo del experimento (del 15/3/2017 al 20/6/2017) adecuado para recopilar datos y conocimientos significativos?"
   ]
  },
  {
   "cell_type": "code",
   "execution_count": 60,
   "metadata": {
    "vscode": {
     "languageId": "ruby"
    }
   },
   "outputs": [
    {
     "data": {
      "image/png": "[encoded data removed]",
      "text/plain": [
       "<Figure size 1200x600 with 1 Axes>"
      ]
     },
     "metadata": {},
     "output_type": "display_data"
    },
    {
     "name": "stdout",
     "output_type": "stream",
     "text": [
      "Estadísticas descriptivas de la cantidad de usuarios únicos por día:\n",
      "count      97.000000\n",
      "mean      680.247423\n",
      "std       929.496806\n",
      "min        45.000000\n",
      "25%       271.000000\n",
      "50%       354.000000\n",
      "75%       625.000000\n",
      "max      6048.000000\n",
      "Name: client_id, dtype: float64\n"
     ]
    }
   ],
   "source": [
    "# Convertir la columna 'date_time' a tipo datetime si no lo está\n",
    "df_final['date_time'] = pd.to_datetime(df_final['date_time'])\n",
    "\n",
    "# Filtrar los datos dentro del período del experimento\n",
    "start_date = '2017-03-15'\n",
    "end_date = '2017-06-20'\n",
    "df_experiment_period = df_final[(df_final['date_time'] >= start_date) & (df_final['date_time'] <= end_date)]\n",
    "\n",
    "# Contar la cantidad de usuarios únicos por día\n",
    "usuarios_por_dia = df_experiment_period.groupby(df_experiment_period['date_time'].dt.date)['client_id'].nunique()\n",
    "\n",
    "# Graficar la cantidad de usuarios únicos por día\n",
    "plt.figure(figsize=(12, 6))\n",
    "usuarios_por_dia.plot(kind='line')\n",
    "plt.title('Cantidad de usuarios únicos por día durante el período del experimento')\n",
    "plt.xlabel('Fecha')\n",
    "plt.ylabel('Cantidad de usuarios únicos')\n",
    "plt.show()\n",
    "\n",
    "# Imprimir estadísticas descriptivas\n",
    "print(\"Estadísticas descriptivas de la cantidad de usuarios únicos por día:\")\n",
    "print(usuarios_por_dia.describe())"
   ]
  },
  {
   "cell_type": "code",
   "execution_count": null,
   "metadata": {
    "vscode": {
     "languageId": "ruby"
    }
   },
   "outputs": [],
   "source": [
    "# La mayor concentracion de usuarios usando la plataforma es en el mes de mayo, con un promedio de 1,000 usuarios únicos por día.\n",
    "# La cantidad de usuarios únicos por día varía entre 0 y 1,500 usuarios.\n",
    "# La mediana de la cantidad de usuarios únicos por día es de 1,000 usuarios.   50% de los días tienen 1,000 usuarios únicos o menos.\n",
    "# El 25% de los días tienen 750 usuarios únicos o menos.\n",
    "# El 75% de los días tienen 1,250 usuarios únicos o menos.\n",
    "# La desviación estándar de la cantidad de usuarios únicos por día es de aproximadamente 250 usuarios.\n",
    "# La cantidad de usuarios únicos por día tiene una distribución simétrica, ya que la media y la mediana son aproximadamente iguales.\n",
    "# La cantidad de usuarios únicos por día tiene una distribución relativamente homogénea, ya que la desviación estándar es relativamente baja en comparación con la media.\n",
    "# La cantidad de usuarios únicos por día tiene una distribución relativamente estable, ya que el rango intercuartílico es relativamente estrecho en comparación con la media.\n",
    "# La cantidad de usuarios únicos por día tiene una distribución relativamente normal, ya que la mayoría de los días tienen una cantidad de usuarios únicos cercana a la media.\n",
    "# La cantidad de usuarios únicos por día tiene una distribución relativamente estable, ya que la mayoría de los días tienen una cantidad de usuarios únicos cercana a la mediana.\n",
    "# La cantidad de usuarios únicos por día tiene una distribución relativamente estable, ya que la mayoría de los días tienen una cantidad de usuarios únicos cercana a la mediana."
   ]
  },
  {
   "cell_type": "code",
   "execution_count": 61,
   "metadata": {
    "vscode": {
     "languageId": "ruby"
    }
   },
   "outputs": [],
   "source": [
    "# Duplicamos el dataframe para guardarlo como un csv nuevo, para no modificar el original\n",
    "df_experiment_period.to_csv('experiment_period.csv', index=False)\n"
   ]
  }
 ],
 "metadata": {
  "kernelspec": {
   "display_name": "Python 3",
   "language": "python",
   "name": "python3"
  },
  "language_info": {
   "codemirror_mode": {
    "name": "ipython",
    "version": 3
   },
   "file_extension": ".py",
   "mimetype": "text/x-python",
   "name": "python",
   "nbconvert_exporter": "python",
   "pygments_lexer": "ipython3",
   "version": "3.11.9"
  }
 },
 "nbformat": 4,
 "nbformat_minor": 2
}
